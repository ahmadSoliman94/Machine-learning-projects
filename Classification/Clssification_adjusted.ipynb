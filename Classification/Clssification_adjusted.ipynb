{
 "cells": [
  {
   "cell_type": "markdown",
   "id": "1396f269-1614-45da-86c1-9a275a6627f4",
   "metadata": {},
   "source": [
    "### Heart Attack Analysis & Prediction "
   ]
  },
  {
   "cell_type": "markdown",
   "id": "6c3174ac-426f-4edf-ba0b-e09bda5ea093",
   "metadata": {},
   "source": [
    "#### download a dataset from Kaggle"
   ]
  },
  {
   "cell_type": "code",
   "execution_count": 29,
   "id": "559f5cab-fca2-4e34-9dcc-d4bf0a80b9f3",
   "metadata": {
    "tags": []
   },
   "outputs": [],
   "source": [
    "# install the Kaggle API client:\n",
    "# !pip install kaggle\\\n",
    "\n",
    "# to ignore the warnings\n",
    "import warnings\n",
    "warnings.filterwarnings('ignore')"
   ]
  },
  {
   "cell_type": "code",
   "execution_count": 30,
   "id": "e85958c9-9ccf-4e7c-bf3d-8d73bb6527dd",
   "metadata": {},
   "outputs": [],
   "source": [
    "# upload  Kaggle API key:\n",
    "!mkdir -p ~/.kaggle\n",
    "!echo '{\"username\":\"ahmadsoliman94\",\"key\":\"ffb7c90fc4521d202ca247af6493f9ad\"}' > ~/.kaggle/kaggle.json"
   ]
  },
  {
   "cell_type": "code",
   "execution_count": 31,
   "id": "8c4cfc98-6e67-470a-a92b-565bf1e2dc21",
   "metadata": {},
   "outputs": [
    {
     "name": "stdout",
     "output_type": "stream",
     "text": [
      "/bin/bash: kaggle: command not found\n"
     ]
    }
   ],
   "source": [
    "# download the dataset:\n",
    "!kaggle datasets download -d rashikrahmanpritom/heart-attack-analysis-prediction-dataset"
   ]
  },
  {
   "cell_type": "markdown",
   "id": "86f03b56-b068-494d-a97c-6e23608483d5",
   "metadata": {},
   "source": [
    "#### unizip the dataset"
   ]
  },
  {
   "cell_type": "code",
   "execution_count": 32,
   "id": "2985a7c0-a02a-47cb-be8c-a7a8f3a5a808",
   "metadata": {},
   "outputs": [],
   "source": [
    "import zipfile\n",
    "\n",
    "# Open the zip file\n",
    "with zipfile.ZipFile(\"heart-attack-analysis-prediction-dataset.zip\", \"r\") as zip_ref:\n",
    "    # Extract all the contents of the zip file\n",
    "    zip_ref.extractall(\"dataset/\")"
   ]
  },
  {
   "cell_type": "markdown",
   "id": "55a4bbb6-bf99-402f-b948-7e147a51c96f",
   "metadata": {},
   "source": [
    "##### About the dataset: \n",
    "- Age : Age of the patient\n",
    "- Sex : Sex of the patient\n",
    "- exang: exercise induced angina (1 = yes; 0 = no)\n",
    "- ca: number of major vessels (0-3)\n",
    "- cp : Chest Pain type chest pain type:\n",
    "* Value 1: typical angina\n",
    "* Value 2: atypical angina\n",
    "* Value 3: non-anginal pain\n",
    "* Value 4: asymptomatic\n",
    "- trtbps : resting blood pressure (in mm Hg)\n",
    "- chol : cholestoral in mg/dl fetched via BMI sensor\n",
    "- fbs : (fasting blood sugar > 120 mg/dl) (1 = true; 0 = false)\n",
    "- rest_ecg : resting electrocardiographic results:\n",
    "* Value 0: normal\n",
    "* Value 1: having ST-T wave abnormality (T wave inversions and/or ST elevation or depression of > 0.05 mV)\n",
    "* Value 2: showing probable or definite left ventricular hypertrophy by Estes' criteria\n",
    "\n",
    "* thalach : maximum heart rate achieved\n",
    "* output : 0= less chance of heart attack 1= more chance of heart attack\n",
    "#### In this notebook, various machine learning algorithms will be applied and try to predict the Heart Attack."
   ]
  },
  {
   "cell_type": "markdown",
   "id": "d17fdc93-752e-49da-9f76-08ed72d3d4cf",
   "metadata": {},
   "source": [
    "### Import the necessary libraries\n"
   ]
  },
  {
   "cell_type": "code",
   "execution_count": 33,
   "id": "985ee7e8-6875-4f25-a058-8503387c7eea",
   "metadata": {},
   "outputs": [],
   "source": [
    "import os\n",
    "import pandas as pd\n",
    "import numpy as np\n",
    "import seaborn as sns\n",
    "import matplotlib.pyplot as plt\n",
    "from scipy import stats\n",
    "from scipy.stats import randint\n",
    "\n",
    "import xgboost as xgb\n",
    "from sklearn.svm import SVC\n",
    "\n",
    "\n",
    "\n",
    "from sklearn.pipeline import Pipeline\n",
    "from sklearn.impute import SimpleImputer\n",
    "from sklearn.metrics import accuracy_score\n",
    "from sklearn.feature_selection import RFECV, SelectFromModel\n",
    "from sklearn.linear_model import LogisticRegression\n",
    "from sklearn.neighbors import KNeighborsClassifier\n",
    "from sklearn.tree import DecisionTreeClassifier\n",
    "from sklearn.ensemble import RandomForestClassifier\n",
    "from sklearn.model_selection import train_test_split, KFold,StratifiedKFold, GridSearchCV, RandomizedSearchCV,cross_val_score\n",
    "from sklearn.preprocessing import MinMaxScaler, StandardScaler, LabelEncoder, RobustScaler\n",
    "from sklearn.metrics import classification_report,ConfusionMatrixDisplay,confusion_matrix, plot_confusion_matrix"
   ]
  },
  {
   "cell_type": "markdown",
   "id": "5997d86c-83b7-40b8-a57c-624392f4c8b0",
   "metadata": {},
   "source": [
    "#### Load the data into a Pandas DataFrame"
   ]
  },
  {
   "cell_type": "code",
   "execution_count": 34,
   "id": "f0307af1-bd08-4dea-9828-39c0f9a101e5",
   "metadata": {},
   "outputs": [],
   "source": [
    "def load_data(path):\n",
    "    dataframe = pd.read_csv(path)\n",
    "    return dataframe"
   ]
  },
  {
   "cell_type": "code",
   "execution_count": 35,
   "id": "b1435e98-f2df-4fe2-944c-b283df8a04ac",
   "metadata": {},
   "outputs": [],
   "source": [
    "df_path = os.getcwd() + '/dataset/heart.csv'"
   ]
  },
  {
   "cell_type": "code",
   "execution_count": 36,
   "id": "96bb7c09-3e69-468a-86cf-cf67fd6d39d5",
   "metadata": {},
   "outputs": [],
   "source": [
    "df = load_data(os.getcwd() + '/dataset/heart.csv')"
   ]
  },
  {
   "cell_type": "code",
   "execution_count": 37,
   "id": "5b554177-9f8c-498d-bd37-f9d6c47978ff",
   "metadata": {},
   "outputs": [
    {
     "data": {
      "text/html": [
       "<div>\n",
       "<style scoped>\n",
       "    .dataframe tbody tr th:only-of-type {\n",
       "        vertical-align: middle;\n",
       "    }\n",
       "\n",
       "    .dataframe tbody tr th {\n",
       "        vertical-align: top;\n",
       "    }\n",
       "\n",
       "    .dataframe thead th {\n",
       "        text-align: right;\n",
       "    }\n",
       "</style>\n",
       "<table border=\"1\" class=\"dataframe\">\n",
       "  <thead>\n",
       "    <tr style=\"text-align: right;\">\n",
       "      <th></th>\n",
       "      <th>age</th>\n",
       "      <th>sex</th>\n",
       "      <th>cp</th>\n",
       "      <th>trtbps</th>\n",
       "      <th>chol</th>\n",
       "      <th>fbs</th>\n",
       "      <th>restecg</th>\n",
       "      <th>thalachh</th>\n",
       "      <th>exng</th>\n",
       "      <th>oldpeak</th>\n",
       "      <th>slp</th>\n",
       "      <th>caa</th>\n",
       "      <th>thall</th>\n",
       "      <th>output</th>\n",
       "    </tr>\n",
       "  </thead>\n",
       "  <tbody>\n",
       "    <tr>\n",
       "      <th>0</th>\n",
       "      <td>63</td>\n",
       "      <td>1</td>\n",
       "      <td>3</td>\n",
       "      <td>145</td>\n",
       "      <td>233</td>\n",
       "      <td>1</td>\n",
       "      <td>0</td>\n",
       "      <td>150</td>\n",
       "      <td>0</td>\n",
       "      <td>2.3</td>\n",
       "      <td>0</td>\n",
       "      <td>0</td>\n",
       "      <td>1</td>\n",
       "      <td>1</td>\n",
       "    </tr>\n",
       "    <tr>\n",
       "      <th>1</th>\n",
       "      <td>37</td>\n",
       "      <td>1</td>\n",
       "      <td>2</td>\n",
       "      <td>130</td>\n",
       "      <td>250</td>\n",
       "      <td>0</td>\n",
       "      <td>1</td>\n",
       "      <td>187</td>\n",
       "      <td>0</td>\n",
       "      <td>3.5</td>\n",
       "      <td>0</td>\n",
       "      <td>0</td>\n",
       "      <td>2</td>\n",
       "      <td>1</td>\n",
       "    </tr>\n",
       "    <tr>\n",
       "      <th>2</th>\n",
       "      <td>41</td>\n",
       "      <td>0</td>\n",
       "      <td>1</td>\n",
       "      <td>130</td>\n",
       "      <td>204</td>\n",
       "      <td>0</td>\n",
       "      <td>0</td>\n",
       "      <td>172</td>\n",
       "      <td>0</td>\n",
       "      <td>1.4</td>\n",
       "      <td>2</td>\n",
       "      <td>0</td>\n",
       "      <td>2</td>\n",
       "      <td>1</td>\n",
       "    </tr>\n",
       "    <tr>\n",
       "      <th>3</th>\n",
       "      <td>56</td>\n",
       "      <td>1</td>\n",
       "      <td>1</td>\n",
       "      <td>120</td>\n",
       "      <td>236</td>\n",
       "      <td>0</td>\n",
       "      <td>1</td>\n",
       "      <td>178</td>\n",
       "      <td>0</td>\n",
       "      <td>0.8</td>\n",
       "      <td>2</td>\n",
       "      <td>0</td>\n",
       "      <td>2</td>\n",
       "      <td>1</td>\n",
       "    </tr>\n",
       "    <tr>\n",
       "      <th>4</th>\n",
       "      <td>57</td>\n",
       "      <td>0</td>\n",
       "      <td>0</td>\n",
       "      <td>120</td>\n",
       "      <td>354</td>\n",
       "      <td>0</td>\n",
       "      <td>1</td>\n",
       "      <td>163</td>\n",
       "      <td>1</td>\n",
       "      <td>0.6</td>\n",
       "      <td>2</td>\n",
       "      <td>0</td>\n",
       "      <td>2</td>\n",
       "      <td>1</td>\n",
       "    </tr>\n",
       "  </tbody>\n",
       "</table>\n",
       "</div>"
      ],
      "text/plain": [
       "   age  sex  cp  trtbps  chol  fbs  restecg  thalachh  exng  oldpeak  slp  \\\n",
       "0   63    1   3     145   233    1        0       150     0      2.3    0   \n",
       "1   37    1   2     130   250    0        1       187     0      3.5    0   \n",
       "2   41    0   1     130   204    0        0       172     0      1.4    2   \n",
       "3   56    1   1     120   236    0        1       178     0      0.8    2   \n",
       "4   57    0   0     120   354    0        1       163     1      0.6    2   \n",
       "\n",
       "   caa  thall  output  \n",
       "0    0      1       1  \n",
       "1    0      2       1  \n",
       "2    0      2       1  \n",
       "3    0      2       1  \n",
       "4    0      2       1  "
      ]
     },
     "execution_count": 37,
     "metadata": {},
     "output_type": "execute_result"
    }
   ],
   "source": [
    "df.head()"
   ]
  },
  {
   "cell_type": "markdown",
   "id": "35163403-af41-4470-a16d-8aa396bd6f23",
   "metadata": {},
   "source": [
    "### Explore the data"
   ]
  },
  {
   "cell_type": "code",
   "execution_count": 38,
   "id": "a3e25db2-472e-4d8d-bef7-8f24cd7b68c4",
   "metadata": {},
   "outputs": [],
   "source": [
    "'''\n",
    "in this function i will use two medtods:\n",
    "describe(): is used for calculating some statistical data like percentile, mean and std of the numerical values.\n",
    "info(): this method prints information about a DataFrame including the index dtype and column dtypes, non-null values and memory usage.\n",
    "'''\n",
    "\n",
    "def explore_dataset(dataframe):\n",
    "    display(dataframe.describe())\n",
    "    print('\\n\\n')\n",
    "    dataframe.info()"
   ]
  },
  {
   "cell_type": "code",
   "execution_count": 39,
   "id": "aba23eed-4ab9-4108-b94d-6e4a8275b5cc",
   "metadata": {},
   "outputs": [
    {
     "data": {
      "text/html": [
       "<div>\n",
       "<style scoped>\n",
       "    .dataframe tbody tr th:only-of-type {\n",
       "        vertical-align: middle;\n",
       "    }\n",
       "\n",
       "    .dataframe tbody tr th {\n",
       "        vertical-align: top;\n",
       "    }\n",
       "\n",
       "    .dataframe thead th {\n",
       "        text-align: right;\n",
       "    }\n",
       "</style>\n",
       "<table border=\"1\" class=\"dataframe\">\n",
       "  <thead>\n",
       "    <tr style=\"text-align: right;\">\n",
       "      <th></th>\n",
       "      <th>age</th>\n",
       "      <th>sex</th>\n",
       "      <th>cp</th>\n",
       "      <th>trtbps</th>\n",
       "      <th>chol</th>\n",
       "      <th>fbs</th>\n",
       "      <th>restecg</th>\n",
       "      <th>thalachh</th>\n",
       "      <th>exng</th>\n",
       "      <th>oldpeak</th>\n",
       "      <th>slp</th>\n",
       "      <th>caa</th>\n",
       "      <th>thall</th>\n",
       "      <th>output</th>\n",
       "    </tr>\n",
       "  </thead>\n",
       "  <tbody>\n",
       "    <tr>\n",
       "      <th>count</th>\n",
       "      <td>303.000000</td>\n",
       "      <td>303.000000</td>\n",
       "      <td>303.000000</td>\n",
       "      <td>303.000000</td>\n",
       "      <td>303.000000</td>\n",
       "      <td>303.000000</td>\n",
       "      <td>303.000000</td>\n",
       "      <td>303.000000</td>\n",
       "      <td>303.000000</td>\n",
       "      <td>303.000000</td>\n",
       "      <td>303.000000</td>\n",
       "      <td>303.000000</td>\n",
       "      <td>303.000000</td>\n",
       "      <td>303.000000</td>\n",
       "    </tr>\n",
       "    <tr>\n",
       "      <th>mean</th>\n",
       "      <td>54.366337</td>\n",
       "      <td>0.683168</td>\n",
       "      <td>0.966997</td>\n",
       "      <td>131.623762</td>\n",
       "      <td>246.264026</td>\n",
       "      <td>0.148515</td>\n",
       "      <td>0.528053</td>\n",
       "      <td>149.646865</td>\n",
       "      <td>0.326733</td>\n",
       "      <td>1.039604</td>\n",
       "      <td>1.399340</td>\n",
       "      <td>0.729373</td>\n",
       "      <td>2.313531</td>\n",
       "      <td>0.544554</td>\n",
       "    </tr>\n",
       "    <tr>\n",
       "      <th>std</th>\n",
       "      <td>9.082101</td>\n",
       "      <td>0.466011</td>\n",
       "      <td>1.032052</td>\n",
       "      <td>17.538143</td>\n",
       "      <td>51.830751</td>\n",
       "      <td>0.356198</td>\n",
       "      <td>0.525860</td>\n",
       "      <td>22.905161</td>\n",
       "      <td>0.469794</td>\n",
       "      <td>1.161075</td>\n",
       "      <td>0.616226</td>\n",
       "      <td>1.022606</td>\n",
       "      <td>0.612277</td>\n",
       "      <td>0.498835</td>\n",
       "    </tr>\n",
       "    <tr>\n",
       "      <th>min</th>\n",
       "      <td>29.000000</td>\n",
       "      <td>0.000000</td>\n",
       "      <td>0.000000</td>\n",
       "      <td>94.000000</td>\n",
       "      <td>126.000000</td>\n",
       "      <td>0.000000</td>\n",
       "      <td>0.000000</td>\n",
       "      <td>71.000000</td>\n",
       "      <td>0.000000</td>\n",
       "      <td>0.000000</td>\n",
       "      <td>0.000000</td>\n",
       "      <td>0.000000</td>\n",
       "      <td>0.000000</td>\n",
       "      <td>0.000000</td>\n",
       "    </tr>\n",
       "    <tr>\n",
       "      <th>25%</th>\n",
       "      <td>47.500000</td>\n",
       "      <td>0.000000</td>\n",
       "      <td>0.000000</td>\n",
       "      <td>120.000000</td>\n",
       "      <td>211.000000</td>\n",
       "      <td>0.000000</td>\n",
       "      <td>0.000000</td>\n",
       "      <td>133.500000</td>\n",
       "      <td>0.000000</td>\n",
       "      <td>0.000000</td>\n",
       "      <td>1.000000</td>\n",
       "      <td>0.000000</td>\n",
       "      <td>2.000000</td>\n",
       "      <td>0.000000</td>\n",
       "    </tr>\n",
       "    <tr>\n",
       "      <th>50%</th>\n",
       "      <td>55.000000</td>\n",
       "      <td>1.000000</td>\n",
       "      <td>1.000000</td>\n",
       "      <td>130.000000</td>\n",
       "      <td>240.000000</td>\n",
       "      <td>0.000000</td>\n",
       "      <td>1.000000</td>\n",
       "      <td>153.000000</td>\n",
       "      <td>0.000000</td>\n",
       "      <td>0.800000</td>\n",
       "      <td>1.000000</td>\n",
       "      <td>0.000000</td>\n",
       "      <td>2.000000</td>\n",
       "      <td>1.000000</td>\n",
       "    </tr>\n",
       "    <tr>\n",
       "      <th>75%</th>\n",
       "      <td>61.000000</td>\n",
       "      <td>1.000000</td>\n",
       "      <td>2.000000</td>\n",
       "      <td>140.000000</td>\n",
       "      <td>274.500000</td>\n",
       "      <td>0.000000</td>\n",
       "      <td>1.000000</td>\n",
       "      <td>166.000000</td>\n",
       "      <td>1.000000</td>\n",
       "      <td>1.600000</td>\n",
       "      <td>2.000000</td>\n",
       "      <td>1.000000</td>\n",
       "      <td>3.000000</td>\n",
       "      <td>1.000000</td>\n",
       "    </tr>\n",
       "    <tr>\n",
       "      <th>max</th>\n",
       "      <td>77.000000</td>\n",
       "      <td>1.000000</td>\n",
       "      <td>3.000000</td>\n",
       "      <td>200.000000</td>\n",
       "      <td>564.000000</td>\n",
       "      <td>1.000000</td>\n",
       "      <td>2.000000</td>\n",
       "      <td>202.000000</td>\n",
       "      <td>1.000000</td>\n",
       "      <td>6.200000</td>\n",
       "      <td>2.000000</td>\n",
       "      <td>4.000000</td>\n",
       "      <td>3.000000</td>\n",
       "      <td>1.000000</td>\n",
       "    </tr>\n",
       "  </tbody>\n",
       "</table>\n",
       "</div>"
      ],
      "text/plain": [
       "              age         sex          cp      trtbps        chol         fbs  \\\n",
       "count  303.000000  303.000000  303.000000  303.000000  303.000000  303.000000   \n",
       "mean    54.366337    0.683168    0.966997  131.623762  246.264026    0.148515   \n",
       "std      9.082101    0.466011    1.032052   17.538143   51.830751    0.356198   \n",
       "min     29.000000    0.000000    0.000000   94.000000  126.000000    0.000000   \n",
       "25%     47.500000    0.000000    0.000000  120.000000  211.000000    0.000000   \n",
       "50%     55.000000    1.000000    1.000000  130.000000  240.000000    0.000000   \n",
       "75%     61.000000    1.000000    2.000000  140.000000  274.500000    0.000000   \n",
       "max     77.000000    1.000000    3.000000  200.000000  564.000000    1.000000   \n",
       "\n",
       "          restecg    thalachh        exng     oldpeak         slp         caa  \\\n",
       "count  303.000000  303.000000  303.000000  303.000000  303.000000  303.000000   \n",
       "mean     0.528053  149.646865    0.326733    1.039604    1.399340    0.729373   \n",
       "std      0.525860   22.905161    0.469794    1.161075    0.616226    1.022606   \n",
       "min      0.000000   71.000000    0.000000    0.000000    0.000000    0.000000   \n",
       "25%      0.000000  133.500000    0.000000    0.000000    1.000000    0.000000   \n",
       "50%      1.000000  153.000000    0.000000    0.800000    1.000000    0.000000   \n",
       "75%      1.000000  166.000000    1.000000    1.600000    2.000000    1.000000   \n",
       "max      2.000000  202.000000    1.000000    6.200000    2.000000    4.000000   \n",
       "\n",
       "            thall      output  \n",
       "count  303.000000  303.000000  \n",
       "mean     2.313531    0.544554  \n",
       "std      0.612277    0.498835  \n",
       "min      0.000000    0.000000  \n",
       "25%      2.000000    0.000000  \n",
       "50%      2.000000    1.000000  \n",
       "75%      3.000000    1.000000  \n",
       "max      3.000000    1.000000  "
      ]
     },
     "metadata": {},
     "output_type": "display_data"
    },
    {
     "name": "stdout",
     "output_type": "stream",
     "text": [
      "\n",
      "\n",
      "\n",
      "<class 'pandas.core.frame.DataFrame'>\n",
      "RangeIndex: 303 entries, 0 to 302\n",
      "Data columns (total 14 columns):\n",
      " #   Column    Non-Null Count  Dtype  \n",
      "---  ------    --------------  -----  \n",
      " 0   age       303 non-null    int64  \n",
      " 1   sex       303 non-null    int64  \n",
      " 2   cp        303 non-null    int64  \n",
      " 3   trtbps    303 non-null    int64  \n",
      " 4   chol      303 non-null    int64  \n",
      " 5   fbs       303 non-null    int64  \n",
      " 6   restecg   303 non-null    int64  \n",
      " 7   thalachh  303 non-null    int64  \n",
      " 8   exng      303 non-null    int64  \n",
      " 9   oldpeak   303 non-null    float64\n",
      " 10  slp       303 non-null    int64  \n",
      " 11  caa       303 non-null    int64  \n",
      " 12  thall     303 non-null    int64  \n",
      " 13  output    303 non-null    int64  \n",
      "dtypes: float64(1), int64(13)\n",
      "memory usage: 33.3 KB\n"
     ]
    }
   ],
   "source": [
    "explore_dataset(df)"
   ]
  },
  {
   "cell_type": "markdown",
   "id": "7d2506be-c40a-4017-ae1c-a86908846d81",
   "metadata": {},
   "source": [
    "#### * of the outputs above we can observe, that there are no missing values and no object datatype. "
   ]
  },
  {
   "cell_type": "markdown",
   "id": "50da0fb9-af75-4cca-a748-46f97ae3bfd2",
   "metadata": {},
   "source": [
    "#### show the correlations between variables"
   ]
  },
  {
   "cell_type": "code",
   "execution_count": 40,
   "id": "efe6dad7-dd93-4075-9fd9-4c1a270733c9",
   "metadata": {},
   "outputs": [],
   "source": [
    "'''\n",
    "in this function we will: \n",
    "1. Compute the correlation matrix\n",
    "2. Set up the matplotlib figure\n",
    "3. Draw the heatmap \n",
    "'''\n",
    "\n",
    "def show_corr(dataframe): \n",
    "    correlation = dataframe.corr()\n",
    "    f, ax = plt.subplots(figsize=(11, 9))\n",
    "    sns.heatmap(correlation,annot=True)\n",
    "    return correlation"
   ]
  },
  {
   "cell_type": "code",
   "execution_count": 41,
   "id": "c5b6ab06-3b4f-4621-93f1-0f0ac860eede",
   "metadata": {},
   "outputs": [
    {
     "data": {
      "image/png": "[encoded data removed]",
      "text/plain": [
       "<Figure size 792x648 with 2 Axes>"
      ]
     },
     "metadata": {
      "needs_background": "light"
     },
     "output_type": "display_data"
    }
   ],
   "source": [
    "corr = show_corr(df)"
   ]
  },
  {
   "cell_type": "code",
   "execution_count": 42,
   "id": "09a5bc75-e78a-4b8d-80fa-dfd5306892f0",
   "metadata": {},
   "outputs": [],
   "source": [
    "# pairplot to visualize the relationships between variables and identify any trends or patterns in the data.\n",
    "#sns.pairplot(df,hue='output')"
   ]
  },
  {
   "cell_type": "code",
   "execution_count": 43,
   "id": "0e5bd390-f32d-4f37-ad5f-9e1f2993a1e0",
   "metadata": {},
   "outputs": [
    {
     "data": {
      "image/png": "[encoded data removed]",
      "text/plain": [
       "<Figure size 576x576 with 1 Axes>"
      ]
     },
     "metadata": {},
     "output_type": "display_data"
    }
   ],
   "source": [
    "# to observe the sex of the patient\n",
    "label = ['male','fmale']\n",
    "data = df['sex'].value_counts()\n",
    "\n",
    "plt.figure(figsize=(8,8))\n",
    "plt.pie(data,labels=label,autopct='%.0f%%',shadow=True,)\n",
    "plt.legend()\n",
    "plt.show()"
   ]
  },
  {
   "cell_type": "code",
   "execution_count": 51,
   "id": "5f098a94-4344-4d69-8a0a-6e775f608e48",
   "metadata": {},
   "outputs": [
    {
     "data": {
      "image/png": "[encoded data removed]",
      "text/plain": [
       "<Figure size 720x360 with 2 Axes>"
      ]
     },
     "metadata": {
      "needs_background": "light"
     },
     "output_type": "display_data"
    }
   ],
   "source": [
    "# Let's see how chest pain type varies according to gender.\n",
    "fig, axs = plt.subplots(1, 2, figsize=(10, 5))\n",
    "\n",
    "sns.countplot(data=df[df['sex']==0], x='cp', ax=axs[0])\n",
    "axs[0].set(title=\"For Males\")\n",
    "axs[0].set(xlabel=\"Chest Pain Type\")\n",
    "sns.countplot(data=df[df['sex']==1], x='cp', ax=axs[1])\n",
    "axs[1].set(title=\"For Females\")\n",
    "axs[1].set(xlabel=\"Chest Pain Type\")\n",
    "# adjust the space between figures\n",
    "plt.subplots_adjust(wspace=0.3, hspace=0.1)\n",
    "\n",
    "plt.show()"
   ]
  },
  {
   "cell_type": "code",
   "execution_count": 52,
   "id": "af262391-6ae0-4108-9bf0-1b8c6515f503",
   "metadata": {},
   "outputs": [
    {
     "data": {
      "image/png": "[encoded data removed]",
      "text/plain": [
       "<Figure size 432x288 with 1 Axes>"
      ]
     },
     "metadata": {
      "needs_background": "light"
     },
     "output_type": "display_data"
    }
   ],
   "source": [
    "# observe the risk of heart attack according to gender.\n",
    "fig, ax = plt.subplots()\n",
    "sns.barplot(data=df, x='sex', y='output', estimator=np.mean, ci=None, ax=ax) # ci: Size of confidence intervals to draw around estimated values.\n",
    "ax.bar_label(ax.containers[0])\n",
    "ax.set_ylim((0, 1))\n",
    "\n",
    "plt.show()"
   ]
  },
  {
   "cell_type": "markdown",
   "id": "6eabc959-321b-4509-8d92-1d21c7fad1ae",
   "metadata": {},
   "source": [
    "- Most males in this dataset are at risk of heart attack (75%). About half (44%) of females are at risk"
   ]
  },
  {
   "cell_type": "markdown",
   "id": "98c464bc-736b-4b5b-9d8e-3d2ad82a9ee9",
   "metadata": {},
   "source": [
    "### Check the outliers"
   ]
  },
  {
   "cell_type": "code",
   "execution_count": 53,
   "id": "5323b866-5656-44db-b5cf-2b29811c3e02",
   "metadata": {},
   "outputs": [
    {
     "name": "stdout",
     "output_type": "stream",
     "text": [
      "Original DataFrame shape: (303, 14)\n",
      "\n",
      "\n"
     ]
    },
    {
     "data": {
      "image/png": "[encoded data removed]",
      "text/plain": [
       "<Figure size 720x720 with 1 Axes>"
      ]
     },
     "metadata": {
      "needs_background": "light"
     },
     "output_type": "display_data"
    }
   ],
   "source": [
    "print(f\"Original DataFrame shape: {df.shape}\\n\\n\")\n",
    "\n",
    "# Visualize the outliers\n",
    "plt.figure(figsize=(10,10))\n",
    "sns.boxplot(data=df)\n",
    "plt.show()"
   ]
  },
  {
   "cell_type": "code",
   "execution_count": 54,
   "id": "7c12308a-d420-44a1-801b-e873e2038797",
   "metadata": {},
   "outputs": [],
   "source": [
    "'''\n",
    "in this function i will try to detect outliers ,remove them then \n",
    "visualize the outliers  before and after removing them\n",
    "'''\n",
    "\n",
    "def remove_outliers(dataframe, columns):\n",
    "    for column in columns:\n",
    "        # Calculate the interquartile range (IQR) for the column\n",
    "        Q1 = dataframe[column].quantile(0.25)\n",
    "        Q3 = dataframe[column].quantile(0.75)\n",
    "        IQR = Q3 - Q1\n",
    "        \n",
    "         # calculate the outlier cutoff\n",
    "        lower_range = Q1 - (1.5 * IQR)\n",
    "        upper_range = Q3 + (1.5 * IQR)\n",
    "        \n",
    "        # calculate the lower and upper bound value\n",
    "        print(f'column name: {column}')\n",
    "        print('The IQR is',IQR)\n",
    "        print('The lower bound value is', lower_range)\n",
    "        print('The upper bound value is', upper_range)\n",
    "        \n",
    "        # Identify outliers\n",
    "        df1 = dataframe[dataframe[column] > upper_range]\n",
    "        df2 = dataframe[dataframe[column] < lower_range]\n",
    "        outliers = df1.shape[0]+ df2.shape[0]\n",
    "        print(f'Total number of outliers: {outliers}' )\n",
    "        print('----------------------------------------------------------------------')\n",
    "        \n",
    "        # Remove rows that contain values that are lower than Q1 - 1.5 * IQR or greater than Q3 + 1.5 * IQR\n",
    "        dataframe = dataframe[~((dataframe[column] < lower_range) | (dataframe[column] > upper_range))] # the tilde (~) can be used to negate a boolean condition when selecting rows.\n",
    "        \n",
    "    print(f\"\\n\\nNew DataFrame shape: {dataframe.shape}\\n\\n\")\n",
    "\n",
    "    # Visualize the outliers\n",
    "    plt.figure(figsize=(10,10))\n",
    "    sns.boxplot(data=dataframe)\n",
    "    plt.show()\n",
    "        \n",
    "\n",
    "    return dataframe"
   ]
  },
  {
   "cell_type": "code",
   "execution_count": 55,
   "id": "d749a779-44f1-4abd-8202-d6c60a59242a",
   "metadata": {},
   "outputs": [
    {
     "name": "stdout",
     "output_type": "stream",
     "text": [
      "column name: age\n",
      "The IQR is 13.5\n",
      "The lower bound value is 27.25\n",
      "The upper bound value is 81.25\n",
      "Total number of outliers: 0\n",
      "----------------------------------------------------------------------\n",
      "column name: sex\n",
      "The IQR is 1.0\n",
      "The lower bound value is -1.5\n",
      "The upper bound value is 2.5\n",
      "Total number of outliers: 0\n",
      "----------------------------------------------------------------------\n",
      "column name: cp\n",
      "The IQR is 2.0\n",
      "The lower bound value is -3.0\n",
      "The upper bound value is 5.0\n",
      "Total number of outliers: 0\n",
      "----------------------------------------------------------------------\n",
      "column name: trtbps\n",
      "The IQR is 20.0\n",
      "The lower bound value is 90.0\n",
      "The upper bound value is 170.0\n",
      "Total number of outliers: 9\n",
      "----------------------------------------------------------------------\n",
      "column name: chol\n",
      "The IQR is 62.75\n",
      "The lower bound value is 116.875\n",
      "The upper bound value is 367.875\n",
      "Total number of outliers: 5\n",
      "----------------------------------------------------------------------\n",
      "column name: fbs\n",
      "The IQR is 0.0\n",
      "The lower bound value is 0.0\n",
      "The upper bound value is 0.0\n",
      "Total number of outliers: 40\n",
      "----------------------------------------------------------------------\n",
      "column name: restecg\n",
      "The IQR is 1.0\n",
      "The lower bound value is -1.5\n",
      "The upper bound value is 2.5\n",
      "Total number of outliers: 0\n",
      "----------------------------------------------------------------------\n",
      "column name: thalachh\n",
      "The IQR is 36.0\n",
      "The lower bound value is 78.0\n",
      "The upper bound value is 222.0\n",
      "Total number of outliers: 1\n",
      "----------------------------------------------------------------------\n",
      "column name: exng\n",
      "The IQR is 1.0\n",
      "The lower bound value is -1.5\n",
      "The upper bound value is 2.5\n",
      "Total number of outliers: 0\n",
      "----------------------------------------------------------------------\n",
      "column name: oldpeak\n",
      "The IQR is 1.6\n",
      "The lower bound value is -2.4000000000000004\n",
      "The upper bound value is 4.0\n",
      "Total number of outliers: 4\n",
      "----------------------------------------------------------------------\n",
      "column name: slp\n",
      "The IQR is 1.0\n",
      "The lower bound value is -0.5\n",
      "The upper bound value is 3.5\n",
      "Total number of outliers: 0\n",
      "----------------------------------------------------------------------\n",
      "column name: caa\n",
      "The IQR is 1.0\n",
      "The lower bound value is -1.5\n",
      "The upper bound value is 2.5\n",
      "Total number of outliers: 15\n",
      "----------------------------------------------------------------------\n",
      "column name: thall\n",
      "The IQR is 1.0\n",
      "The lower bound value is 0.5\n",
      "The upper bound value is 4.5\n",
      "Total number of outliers: 1\n",
      "----------------------------------------------------------------------\n",
      "column name: output\n",
      "The IQR is 1.0\n",
      "The lower bound value is -1.5\n",
      "The upper bound value is 2.5\n",
      "Total number of outliers: 0\n",
      "----------------------------------------------------------------------\n",
      "\n",
      "\n",
      "New DataFrame shape: (228, 14)\n",
      "\n",
      "\n"
     ]
    },
    {
     "data": {
      "image/png": "[encoded data removed]",
      "text/plain": [
       "<Figure size 720x720 with 1 Axes>"
      ]
     },
     "metadata": {
      "needs_background": "light"
     },
     "output_type": "display_data"
    }
   ],
   "source": [
    "df_cleaned = remove_outliers(df, [column for column in df.columns])\n"
   ]
  },
  {
   "cell_type": "markdown",
   "id": "69c6e534-c315-414d-9e43-a0685b838d84",
   "metadata": {},
   "source": [
    "### Check for duplicated rows"
   ]
  },
  {
   "cell_type": "code",
   "execution_count": 56,
   "id": "cbe63254-9b76-438a-be0f-86b843e56c61",
   "metadata": {},
   "outputs": [
    {
     "name": "stdout",
     "output_type": "stream",
     "text": [
      "Empty DataFrame\n",
      "Columns: [age, sex, cp, trtbps, chol, fbs, restecg, thalachh, exng, oldpeak, slp, caa, thall, output]\n",
      "Index: []\n"
     ]
    }
   ],
   "source": [
    "duplicated_rows = df_cleaned.duplicated(subset=df_cleaned.columns, keep=False)\n",
    "# Print the duplicated rows\n",
    "print(df_cleaned[duplicated_rows])"
   ]
  },
  {
   "cell_type": "code",
   "execution_count": 57,
   "id": "a04d241a-234a-44f6-863e-ee706a553c5d",
   "metadata": {},
   "outputs": [],
   "source": [
    "df_cleaned.drop_duplicates(inplace=True)"
   ]
  },
  {
   "cell_type": "markdown",
   "id": "ac9f5b1c-6df3-4c43-bf8e-48f23cf8f50d",
   "metadata": {},
   "source": [
    "#### Split the data into train and test"
   ]
  },
  {
   "cell_type": "code",
   "execution_count": 58,
   "id": "eacd5d37-8e38-4439-a5d6-9b3183d70bcb",
   "metadata": {},
   "outputs": [
    {
     "data": {
      "text/plain": [
       "((228, 13), (228,))"
      ]
     },
     "execution_count": 58,
     "metadata": {},
     "output_type": "execute_result"
    }
   ],
   "source": [
    "X = df_cleaned.drop('output', axis=1) # Whether to drop labels from the index (0 or 'index') or columns (1 or 'columns').\n",
    "y = df_cleaned['output']\n",
    "\n",
    "X.shape, y.shape"
   ]
  },
  {
   "cell_type": "markdown",
   "id": "ffdba091-3e6e-402a-a15f-8d0647f83025",
   "metadata": {},
   "source": [
    "### Feautre selection"
   ]
  },
  {
   "cell_type": "code",
   "execution_count": 79,
   "id": "38df94e3-877a-4cb3-938b-30b3a8c560d4",
   "metadata": {},
   "outputs": [],
   "source": [
    "''' try to select n top featres using random forest importance and \n",
    "cross-validation to evaluate the peformance of selected model then plot them '''  \n",
    "\n",
    "def feature_selector(x,y,n_features=None):\n",
    "    \n",
    "    # Create a random forest classifier\n",
    "    clf = RandomForestClassifier(random_state=48)\n",
    "    \n",
    "    # Train the classifier with the training data\n",
    "    clf.fit(x, y)\n",
    "    \n",
    "    \n",
    "     # Use SelectFromModel to select the top n features based on feature importance\n",
    "    selector = SelectFromModel(clf, max_features=n_features,threshold=0.05)\n",
    "    selector.fit(x, y)\n",
    "    \n",
    "    # Get the selected features as a boolean mask\n",
    "    selected_features = selector.get_support()\n",
    "    \n",
    "    # Get the names of the selected features\n",
    "    feature_names = x.columns[selected_features]\n",
    "    \n",
    "    # Use the selected features to transform the data\n",
    "    X_selected = selector.transform(x)\n",
    "    \n",
    "    # Use cross-validation to evaluate the model with the selected features\n",
    "    scores = cross_val_score(clf, X_selected, y, cv=5)\n",
    "\n",
    "    \n",
    "    '''\n",
    "    Mean score: is the average of all the scores obtained during the cross-validation process.\n",
    "    Standard deviation score: is a measure of the dispersion of the scores around the mean.\n",
    "    \n",
    "    - if the mean of the cross-validation scores is high and the standard deviation is low, \n",
    "    the model is performing well. \n",
    "    \n",
    "    - if the mean is high but the standard deviation is also high,  \n",
    "    the model is overfitting\n",
    "    '''\n",
    "    \n",
    "    # Get the mean and standard deviation of the scores\n",
    "    mean = np.mean(scores)\n",
    "    std = np.std(scores)\n",
    "    \n",
    "\n",
    "                      \n",
    "    # Plot the feature importances\n",
    "    plt.figure(figsize=(10, 5))\n",
    "    plt.barh(range(len(feature_names)), feature_names)\n",
    "    plt.xlabel(\"Feature importance\")\n",
    "    plt.title(f\"Mean score = {mean:.3f} +/- {std:.3f}\")\n",
    "    plt.show()\n",
    "    \n",
    "    return selected_features\n",
    "       "
   ]
  },
  {
   "cell_type": "code",
   "execution_count": 80,
   "id": "68250996-2433-4fcf-94aa-a6f250655bf7",
   "metadata": {},
   "outputs": [
    {
     "data": {
      "image/png": "[encoded data removed]",
      "text/plain": [
       "<Figure size 720x360 with 1 Axes>"
      ]
     },
     "metadata": {
      "needs_background": "light"
     },
     "output_type": "display_data"
    }
   ],
   "source": [
    "selected_features = feature_selector(X,y,n_features=13)"
   ]
  },
  {
   "cell_type": "code",
   "execution_count": 81,
   "id": "911e6abc-c584-4129-a590-9c71ed8fc137",
   "metadata": {},
   "outputs": [],
   "source": [
    "X_selected = X.iloc[:, selected_features]"
   ]
  },
  {
   "cell_type": "code",
   "execution_count": 82,
   "id": "2581a357-f672-4058-9132-28219ca8c564",
   "metadata": {},
   "outputs": [
    {
     "data": {
      "text/plain": [
       "((228, 10), (228,))"
      ]
     },
     "execution_count": 82,
     "metadata": {},
     "output_type": "execute_result"
    }
   ],
   "source": [
    "X_selected.shape, y.shape"
   ]
  },
  {
   "cell_type": "code",
   "execution_count": 83,
   "id": "ad0b73dc-64e4-4183-b970-2928f4865961",
   "metadata": {},
   "outputs": [],
   "source": [
    "'''\n",
    "to split data and print the shape of them\n",
    "'''\n",
    "def split_data(x,y,test_size,random_state=None):\n",
    "    x_train, x_test, y_train, y_test = train_test_split(x, y, test_size = test_size,random_state=random_state)\n",
    "    print(f'Shape of X train: {x_train.shape}')\n",
    "    print(f'Shape of y train: {y_train.shape}')\n",
    "    print(f'Shape of X test: {x_test.shape}')\n",
    "    print(f'Shape of y test: {y_test.shape}')\n",
    "    return x_train, x_test, y_train, y_test"
   ]
  },
  {
   "cell_type": "code",
   "execution_count": 84,
   "id": "23876da6-d3c7-4eb7-97bd-47bdbe9122cf",
   "metadata": {},
   "outputs": [
    {
     "name": "stdout",
     "output_type": "stream",
     "text": [
      "Shape of X train: (182, 10)\n",
      "Shape of y train: (182,)\n",
      "Shape of X test: (46, 10)\n",
      "Shape of y test: (46,)\n"
     ]
    }
   ],
   "source": [
    "X_train, X_test, y_train, y_test = split_data(X_selected,y,test_size=0.2,random_state=0)"
   ]
  },
  {
   "cell_type": "markdown",
   "id": "38915d20-3425-4763-b76b-e6bf124bb024",
   "metadata": {},
   "source": [
    "#### Selecting models"
   ]
  },
  {
   "cell_type": "code",
   "execution_count": 85,
   "id": "202a3943-d62f-4995-8b59-159d4a710679",
   "metadata": {},
   "outputs": [],
   "source": [
    "'''\n",
    "in this function i will choose various classification algorthims then iset up pipeline for model and scaler. \n",
    "I will apply k-fold cross validation for data and trying to tuning the hyperparameters as well \n",
    "then evaluate the model peformance using accuracy_score.\n",
    "\n",
    "'''\n",
    "\n",
    "def build_model(x_train, y_train,x_test,y_test,model,scaler,hyperparameter,metric=''):\n",
    "    \n",
    "    # Set up the pipeline with the scaler and the model\n",
    "    pipeline = Pipeline([\n",
    "        ('scaler', scaler),\n",
    "        ('model', model)\n",
    "    ])\n",
    "\n",
    "    # Set up the hyperparameter grid to search over\n",
    "    param_grid = hyperparameter\n",
    "\n",
    "    # Set up the K-fold cross-validator\n",
    "    kfold = KFold(n_splits=5, shuffle=True, random_state=42)\n",
    "\n",
    "    # Set up the grid search\n",
    "    grid_search = GridSearchCV(pipeline, param_grid, cv=kfold, scoring=metric)\n",
    "\n",
    "    # Fit the grid search to the data\n",
    "    grid_search.fit(x_train, y_train)\n",
    "\n",
    "    # Print the best hyperparameters\n",
    "    print(\"Best hyperparameters:\", grid_search.best_params_)\n",
    "\n",
    "    # Get the best model from the grid search\n",
    "    best_model = grid_search.best_estimator_\n",
    "\n",
    "    # Evaluate the model using the best hyperparameters\n",
    "    model_prediction = best_model.predict(x_test)\n",
    "    model_acc = accuracy_score(y_test, model_prediction)\n",
    "    print(f\"accuracy :{model_acc}\\n\" )\n",
    "    \n",
    "    # to print classification_report\n",
    "    print(classification_report(y_test, model_prediction))\n",
    "    \n",
    "    return model_prediction, model_acc"
   ]
  },
  {
   "cell_type": "markdown",
   "id": "702daa8f-e5b8-4409-a531-bd7cdbf63e0f",
   "metadata": {},
   "source": [
    "### Let's try these following classifiers to make the machine learning model:\n",
    "\n",
    "- Logistic Regression\n",
    "- Support Vector Machine (linear kernel)\n",
    "- k-Nearest Neighbors\n",
    "- Decision Tree\n",
    "- Random forest\n",
    "- xg-boost"
   ]
  },
  {
   "cell_type": "code",
   "execution_count": 86,
   "id": "99491c0e-2199-41aa-9108-b6205a6b2b37",
   "metadata": {},
   "outputs": [],
   "source": [
    "# Create a dictionary of classifiers\n",
    "classifiers  = [\n",
    "\n",
    "    # 1.\n",
    "    {\n",
    "     \"name\": 'Logistic Regression', \n",
    "     'model': LogisticRegression(), \n",
    "     'hyperparameters': \n",
    "        {\n",
    "            'model__penalty':[None,'l2','l1'],\n",
    "            'model__fit_intercept':[True,False]\n",
    "             }\n",
    "    \n",
    "    },\n",
    "    \n",
    "    # 2. \n",
    "        {\n",
    "\n",
    "     \"name\": \"Support Vector Machine\" , \n",
    "     'model': SVC(), \n",
    "     'hyperparameters': \n",
    "        {\n",
    "    'model__kernel':['linear', 'poly', 'rbf', 'sigmoid', 'precomputed'],\n",
    "    'model__max_iter':[20,30,50,100,-1],\n",
    "    'model__gamma': ['auto', 'scale']\n",
    "             }\n",
    "    \n",
    "    },\n",
    "    \n",
    "    # 3. \n",
    "        {\n",
    "     \"name\": 'k-Nearest Neighbors', \n",
    "     'model': KNeighborsClassifier(), \n",
    "     'hyperparameters': \n",
    "        {\n",
    "           'model__n_neighbors':[5,6,7,8,9],\n",
    "           'model__weights':['uniform','distance'],\n",
    "           'model__algorithm': ['auto', 'ball_tree', 'kd_tree', 'brute']\n",
    "             }\n",
    "    \n",
    "    },\n",
    "    \n",
    "    # 4. \n",
    "        {\n",
    "     \"name\": 'Decision Tree', \n",
    "     'model':  DecisionTreeClassifier(), \n",
    "     'hyperparameters': \n",
    "        {\n",
    "            'model__criterion':['gini', 'entropy', 'log_loss'],\n",
    "            'model__splitter':['random', 'best'],\n",
    "            'model__min_samples_split': [2,4,6,8],\n",
    "            'model__max_leaf_nodes':[4,5,6,7]\n",
    "             }\n",
    "    \n",
    "    },\n",
    "    \n",
    "        # 5. \n",
    "        {\n",
    "     \"name\": 'Random forest', \n",
    "     'model': RandomForestClassifier(random_state=42), \n",
    "     'hyperparameters': \n",
    "        {\n",
    "            'model__n_estimators':[100,200,300],\n",
    "            'model__criterion':['gini','entropy'],\n",
    "            'model__max_depth':[3,4,5,6,7,8,9],\n",
    "            'model__bootstrap' : [True, False],\n",
    "            'model__min_samples_split': [2,4,6,8]\n",
    "             }\n",
    "    \n",
    "    },\n",
    "    \n",
    "    # 6. \n",
    "        {\n",
    "     \"name\": 'xg-boost', \n",
    "     'model': xgb.XGBClassifier(objective = 'binary:logistic',random_state=42), \n",
    "     'hyperparameters': \n",
    "        {\n",
    "              'model__n_estimators': [50,100,150, 300],\n",
    "              'model__eta': [0.01, 0.002,0.0003,0.3],\n",
    "              'model__subsample': [0.3, 0.01,0.5],\n",
    "              'model__max_depth': [3, 4, 5, 6, 7, 8, 9],\n",
    "              'model__colsample_bytree': [0.5, 0.4,0.6],\n",
    "              'model__min_child_weight': [1, 2, 3, 4]\n",
    "             }\n",
    "    \n",
    "    }\n",
    "    \n",
    "] \n",
    "\n",
    "# define scaler\n",
    "scaler = RobustScaler()\n",
    "\n",
    "# define metric\n",
    "metric = 'accuracy'"
   ]
  },
  {
   "cell_type": "code",
   "execution_count": 101,
   "id": "86d794cc-0966-4646-85cc-37347335eb56",
   "metadata": {},
   "outputs": [
    {
     "name": "stdout",
     "output_type": "stream",
     "text": [
      "Classifier: Logistic Regression:\n",
      "\n",
      "Best hyperparameters: {'model__fit_intercept': True, 'model__penalty': 'l2'}\n",
      "accuracy :0.8478260869565217\n",
      "\n",
      "              precision    recall  f1-score   support\n",
      "\n",
      "           0       0.84      0.88      0.86        24\n",
      "           1       0.86      0.82      0.84        22\n",
      "\n",
      "    accuracy                           0.85        46\n",
      "   macro avg       0.85      0.85      0.85        46\n",
      "weighted avg       0.85      0.85      0.85        46\n",
      "\n",
      "----------------------------------------------------------------\n",
      "\n",
      "Classifier: Support Vector Machine:\n",
      "\n",
      "Best hyperparameters: {'model__gamma': 'auto', 'model__kernel': 'linear', 'model__max_iter': -1}\n",
      "accuracy :0.8043478260869565\n",
      "\n",
      "              precision    recall  f1-score   support\n",
      "\n",
      "           0       0.83      0.79      0.81        24\n",
      "           1       0.78      0.82      0.80        22\n",
      "\n",
      "    accuracy                           0.80        46\n",
      "   macro avg       0.80      0.80      0.80        46\n",
      "weighted avg       0.81      0.80      0.80        46\n",
      "\n",
      "----------------------------------------------------------------\n",
      "\n",
      "Classifier: k-Nearest Neighbors:\n",
      "\n",
      "Best hyperparameters: {'model__algorithm': 'auto', 'model__n_neighbors': 8, 'model__weights': 'uniform'}\n",
      "accuracy :0.8260869565217391\n",
      "\n",
      "              precision    recall  f1-score   support\n",
      "\n",
      "           0       0.81      0.88      0.84        24\n",
      "           1       0.85      0.77      0.81        22\n",
      "\n",
      "    accuracy                           0.83        46\n",
      "   macro avg       0.83      0.82      0.82        46\n",
      "weighted avg       0.83      0.83      0.83        46\n",
      "\n",
      "----------------------------------------------------------------\n",
      "\n",
      "Classifier: Decision Tree:\n",
      "\n",
      "Best hyperparameters: {'model__criterion': 'log_loss', 'model__max_leaf_nodes': 5, 'model__min_samples_split': 4, 'model__splitter': 'random'}\n",
      "accuracy :0.7391304347826086\n",
      "\n",
      "              precision    recall  f1-score   support\n",
      "\n",
      "           0       0.88      0.58      0.70        24\n",
      "           1       0.67      0.91      0.77        22\n",
      "\n",
      "    accuracy                           0.74        46\n",
      "   macro avg       0.77      0.75      0.73        46\n",
      "weighted avg       0.78      0.74      0.73        46\n",
      "\n",
      "----------------------------------------------------------------\n",
      "\n",
      "Classifier: Random forest:\n",
      "\n",
      "Best hyperparameters: {'model__bootstrap': True, 'model__criterion': 'entropy', 'model__max_depth': 8, 'model__min_samples_split': 4, 'model__n_estimators': 200}\n",
      "accuracy :0.8260869565217391\n",
      "\n",
      "              precision    recall  f1-score   support\n",
      "\n",
      "           0       0.81      0.88      0.84        24\n",
      "           1       0.85      0.77      0.81        22\n",
      "\n",
      "    accuracy                           0.83        46\n",
      "   macro avg       0.83      0.82      0.82        46\n",
      "weighted avg       0.83      0.83      0.83        46\n",
      "\n",
      "----------------------------------------------------------------\n",
      "\n",
      "Classifier: xg-boost:\n",
      "\n",
      "Best hyperparameters: {'model__colsample_bytree': 0.4, 'model__eta': 0.3, 'model__max_depth': 3, 'model__min_child_weight': 3, 'model__n_estimators': 300, 'model__subsample': 0.5}\n",
      "accuracy :0.8260869565217391\n",
      "\n",
      "              precision    recall  f1-score   support\n",
      "\n",
      "           0       0.83      0.83      0.83        24\n",
      "           1       0.82      0.82      0.82        22\n",
      "\n",
      "    accuracy                           0.83        46\n",
      "   macro avg       0.83      0.83      0.83        46\n",
      "weighted avg       0.83      0.83      0.83        46\n",
      "\n",
      "----------------------------------------------------------------\n",
      "\n"
     ]
    },
    {
     "data": {
      "image/png": "[encoded data removed]",
      "text/plain": [
       "<Figure size 1440x1440 with 12 Axes>"
      ]
     },
     "metadata": {
      "needs_background": "light"
     },
     "output_type": "display_data"
    }
   ],
   "source": [
    "accuracies,  predictions = [], []\n",
    "# create the figure and the subplots\n",
    "f, axes = plt.subplots(nrows=1, ncols=len(classifiers), figsize=(20, 20))\n",
    "\n",
    "# iterate over the list of classifiers\n",
    "for i, classifier in enumerate(classifiers):\n",
    "    name = classifier['name']\n",
    "    model = classifier['model']\n",
    "    hyperparameter = classifier['hyperparameters']\n",
    "    print (f\"Classifier: {name}:\\n\")\n",
    "    predection, accuracy = build_model(X_train, y_train,X_test,y_test,model=model,scaler=scaler,hyperparameter=hyperparameter,metric=metric)\n",
    "    accuracies.append(accuracy)\n",
    "    predictions.append(predection)\n",
    "    print('----------------------------------------------------------------\\n')\n",
    "    \n",
    "    # compute confusion matrix\n",
    "    cm = confusion_matrix(y_test, predection)\n",
    "    \n",
    "    # create ConfusionMatrixDisplay object\n",
    "    disp = ConfusionMatrixDisplay(confusion_matrix=cm, \n",
    "                                  display_labels=['less chance','more chance'])\n",
    "    \n",
    "    # plot the confusion matrix on the specified axis \n",
    "    disp.plot(ax=axes[i])\n",
    "    \n",
    "    # set the title of the plot\n",
    "    axes[i].set_title(name)\n",
    "    \n",
    "# adjust the space between figures\n",
    "plt.subplots_adjust(wspace=0.3, hspace=0.1)\n",
    "\n",
    "# show the figure\n",
    "plt.show()"
   ]
  },
  {
   "cell_type": "markdown",
   "id": "95a99648-1799-45ac-8f9e-422d2e4abf87",
   "metadata": {},
   "source": [
    "##### Store all predictions acuracies into Dataframe then visulize them using bar-plot"
   ]
  },
  {
   "cell_type": "code",
   "execution_count": 109,
   "id": "93e6e66f-4b3d-4b20-8c9d-eb13c57000d8",
   "metadata": {},
   "outputs": [],
   "source": [
    "# return classifiers name\n",
    "\n",
    "classifier_name = []\n",
    "for classifier in classifiers:\n",
    "    classifier_name.append(classifier['name'])"
   ]
  },
  {
   "cell_type": "code",
   "execution_count": 110,
   "id": "9d25e9bc-e233-44b0-b00b-1e556b6d8df7",
   "metadata": {},
   "outputs": [
    {
     "data": {
      "text/plain": [
       "['Logistic Regression',\n",
       " 'Support Vector Machine',\n",
       " 'k-Nearest Neighbors',\n",
       " 'Decision Tree',\n",
       " 'Random forest',\n",
       " 'xg-boost']"
      ]
     },
     "execution_count": 110,
     "metadata": {},
     "output_type": "execute_result"
    }
   ],
   "source": [
    "classifier_name"
   ]
  },
  {
   "cell_type": "code",
   "execution_count": 107,
   "id": "5099e89b-b753-49d1-b43e-49c7a3ddbc89",
   "metadata": {},
   "outputs": [],
   "source": [
    "df = pd.DataFrame({'Accuraccy': accuracies}, index=classifier_name)"
   ]
  },
  {
   "cell_type": "code",
   "execution_count": 108,
   "id": "1971255b-0911-4559-a874-a51611760858",
   "metadata": {},
   "outputs": [
    {
     "data": {
      "text/html": [
       "<div>\n",
       "<style scoped>\n",
       "    .dataframe tbody tr th:only-of-type {\n",
       "        vertical-align: middle;\n",
       "    }\n",
       "\n",
       "    .dataframe tbody tr th {\n",
       "        vertical-align: top;\n",
       "    }\n",
       "\n",
       "    .dataframe thead th {\n",
       "        text-align: right;\n",
       "    }\n",
       "</style>\n",
       "<table border=\"1\" class=\"dataframe\">\n",
       "  <thead>\n",
       "    <tr style=\"text-align: right;\">\n",
       "      <th></th>\n",
       "      <th>Accuraccy</th>\n",
       "    </tr>\n",
       "  </thead>\n",
       "  <tbody>\n",
       "    <tr>\n",
       "      <th>Decision Tree</th>\n",
       "      <td>0.739130</td>\n",
       "    </tr>\n",
       "    <tr>\n",
       "      <th>Support Vector Machine</th>\n",
       "      <td>0.804348</td>\n",
       "    </tr>\n",
       "    <tr>\n",
       "      <th>k-Nearest Neighbors</th>\n",
       "      <td>0.826087</td>\n",
       "    </tr>\n",
       "    <tr>\n",
       "      <th>Random forest</th>\n",
       "      <td>0.826087</td>\n",
       "    </tr>\n",
       "    <tr>\n",
       "      <th>xg-boost</th>\n",
       "      <td>0.826087</td>\n",
       "    </tr>\n",
       "    <tr>\n",
       "      <th>Logistic Regression</th>\n",
       "      <td>0.847826</td>\n",
       "    </tr>\n",
       "  </tbody>\n",
       "</table>\n",
       "</div>"
      ],
      "text/plain": [
       "                        Accuraccy\n",
       "Decision Tree            0.739130\n",
       "Support Vector Machine   0.804348\n",
       "k-Nearest Neighbors      0.826087\n",
       "Random forest            0.826087\n",
       "xg-boost                 0.826087\n",
       "Logistic Regression      0.847826"
      ]
     },
     "execution_count": 108,
     "metadata": {},
     "output_type": "execute_result"
    }
   ],
   "source": [
    "df.sort_values(by='Accuraccy',inplace=True,ascending=True)\n",
    "df"
   ]
  },
  {
   "cell_type": "code",
   "execution_count": 106,
   "id": "4bfae825-a7b0-40c7-afe2-15d32719c73b",
   "metadata": {},
   "outputs": [
    {
     "data": {
      "text/plain": [
       "<AxesSubplot:xlabel='Accuraccy'>"
      ]
     },
     "execution_count": 106,
     "metadata": {},
     "output_type": "execute_result"
    },
    {
     "data": {
      "image/png": "[encoded data removed]",
      "text/plain": [
       "<Figure size 432x288 with 1 Axes>"
      ]
     },
     "metadata": {
      "needs_background": "light"
     },
     "output_type": "display_data"
    }
   ],
   "source": [
    "# plot accuraccies\n",
    "\n",
    "sns.barplot(data=df,x=df.Accuraccy,y=df.index)"
   ]
  }
 ],
 "metadata": {
  "kernelspec": {
   "display_name": "Python 3 (ipykernel)",
   "language": "python",
   "name": "python3"
  },
  "language_info": {
   "codemirror_mode": {
    "name": "ipython",
    "version": 3
   },
   "file_extension": ".py",
   "mimetype": "text/x-python",
   "name": "python",
   "nbconvert_exporter": "python",
   "pygments_lexer": "ipython3",
   "version": "3.9.13"
  }
 },
 "nbformat": 4,
 "nbformat_minor": 5
}
