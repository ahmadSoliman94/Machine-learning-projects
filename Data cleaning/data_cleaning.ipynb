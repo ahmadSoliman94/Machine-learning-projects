{
 "cells": [
  {
   "cell_type": "code",
   "execution_count": 1,
   "metadata": {},
   "outputs": [],
   "source": [
    "import pandas as pd\n",
    "import os\n"
   ]
  },
  {
   "cell_type": "code",
   "execution_count": 2,
   "metadata": {},
   "outputs": [],
   "source": [
    "def remove_repeating_header(filename,output):\n",
    "    in_file = open(filename,'r')\n",
    "    out_file = open(output,'w')\n",
    "\n",
    "    rows = []\n",
    "\n",
    "    for row in in_file:\n",
    "        if row in rows:\n",
    "            continue\n",
    "        else:\n",
    "            rows.append(row)\n",
    "            out_file.write(row)\n",
    "    out_file.close()\n",
    "    in_file.close()\n",
    "    return output"
   ]
  },
  {
   "cell_type": "code",
   "execution_count": 3,
   "metadata": {},
   "outputs": [],
   "source": [
    "def fill_missing_values(data_frame,out_put):\n",
    "    df = pd.read_csv(data_frame)\n",
    "    os.remove(data_frame)\n",
    "    for col in df:\n",
    "        # select only integer or float dtypes\n",
    "        if df[col].dtype in (\"int\", \"float\"):\n",
    "            df[col] = df[col].fillna(df[col].median())\n",
    "    df.to_csv(out_put,index=False)"
   ]
  },
  {
   "cell_type": "code",
   "execution_count": 4,
   "metadata": {},
   "outputs": [],
   "source": [
    "df = remove_repeating_header('data.csv','new_data.csv')"
   ]
  },
  {
   "cell_type": "code",
   "execution_count": 5,
   "metadata": {},
   "outputs": [],
   "source": [
    "fill_missing_values(df,'cleaned_data.csv')"
   ]
  },
  {
   "cell_type": "code",
   "execution_count": 8,
   "metadata": {},
   "outputs": [
    {
     "name": "stdout",
     "output_type": "stream",
     "text": [
      "<class 'pandas.core.frame.DataFrame'>\n",
      "RangeIndex: 7 entries, 0 to 6\n",
      "Data columns (total 4 columns):\n",
      " #   Column       Non-Null Count  Dtype  \n",
      "---  ------       --------------  -----  \n",
      " 0   ID           7 non-null      int64  \n",
      " 1   name         7 non-null      object \n",
      " 2   temperature  7 non-null      float64\n",
      " 3   salary       7 non-null      float64\n",
      "dtypes: float64(2), int64(1), object(1)\n",
      "memory usage: 352.0+ bytes\n"
     ]
    }
   ],
   "source": [
    "pd.read_csv('cleaned_data.csv').info()"
   ]
  },
  {
   "cell_type": "code",
   "execution_count": null,
   "metadata": {},
   "outputs": [],
   "source": []
  }
 ],
 "metadata": {
  "kernelspec": {
   "display_name": "Python 3",
   "language": "python",
   "name": "python3"
  },
  "language_info": {
   "codemirror_mode": {
    "name": "ipython",
    "version": 3
   },
   "file_extension": ".py",
   "mimetype": "text/x-python",
   "name": "python",
   "nbconvert_exporter": "python",
   "pygments_lexer": "ipython3",
   "version": "3.9.13"
  },
  "orig_nbformat": 4,
  "vscode": {
   "interpreter": {
    "hash": "84e67609b8bb150aacfec3112ea8afbf75fc833a148a42430a20c5c56925e418"
   }
  }
 },
 "nbformat": 4,
 "nbformat_minor": 2
}
